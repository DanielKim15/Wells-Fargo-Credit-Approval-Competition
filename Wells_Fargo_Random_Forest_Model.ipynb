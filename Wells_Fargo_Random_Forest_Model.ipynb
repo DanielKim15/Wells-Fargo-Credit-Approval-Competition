{
  "nbformat": 4,
  "nbformat_minor": 0,
  "metadata": {
    "colab": {
      "name": "Wells Fargo Random Forest Model.ipynb",
      "provenance": [],
      "collapsed_sections": []
    },
    "kernelspec": {
      "display_name": "Python 3",
      "name": "python3"
    },
    "language_info": {
      "name": "python"
    }
  },
  "cells": [
    {
      "cell_type": "code",
      "metadata": {
        "id": "tavSUL9YUk3C",
        "colab": {
          "base_uri": "https://localhost:8080/"
        },
        "outputId": "142f4c93-eef3-460d-dc2e-b5417da9c8a6"
      },
      "source": [
        "import pandas as pd\n",
        "import numpy as np\n",
        "import matplotlib.pyplot as plt\n",
        "import seaborn as sns\n",
        "import statsmodels.api as sm\n",
        "import statsmodels.formula.api as smf\n",
        "from sklearn.linear_model import LogisticRegression\n",
        "from sklearn.metrics import confusion_matrix\n",
        "from sklearn.tree import DecisionTreeClassifier\n",
        "from sklearn.ensemble import RandomForestClassifier\n",
        "from imblearn.over_sampling import SMOTE\n",
        "from sklearn.preprocessing import MinMaxScaler\n",
        "%matplotlib inline\n",
        "\n",
        "\n",
        "\n",
        "#OR\n",
        "import pandas as pd\n",
        "import numpy as np\n",
        "from sklearn import tree\n",
        "from sklearn.model_selection import GridSearchCV, RandomizedSearchCV\n",
        "import sklearn.model_selection as ms\n",
        "from sklearn import metrics\n",
        "from sklearn.metrics import roc_curve\n",
        "from sklearn.ensemble import BaggingClassifier, RandomForestClassifier, GradientBoostingClassifier\n",
        "import matplotlib.pyplot as plt\n",
        "from sklearn.impute import SimpleImputer\n",
        "from scipy import stats\n",
        "from sklearn.preprocessing import StandardScaler\n",
        "from sklearn.model_selection import train_test_split #split the thing \n",
        "from sklearn.model_selection import GridSearchCV \n",
        "\n",
        "\n",
        "from sklearn.model_selection import RandomizedSearchCV\n",
        "import xgboost as xgboost"
      ],
      "execution_count": 1,
      "outputs": [
        {
          "output_type": "stream",
          "name": "stderr",
          "text": [
            "/usr/local/lib/python3.7/dist-packages/statsmodels/tools/_testing.py:19: FutureWarning: pandas.util.testing is deprecated. Use the functions in the public API at pandas.testing instead.\n",
            "  import pandas.util.testing as tm\n",
            "/usr/local/lib/python3.7/dist-packages/sklearn/externals/six.py:31: FutureWarning: The module is deprecated in version 0.21 and will be removed in version 0.23 since we've dropped support for Python 2.7. Please rely on the official version of six (https://pypi.org/project/six/).\n",
            "  \"(https://pypi.org/project/six/).\", FutureWarning)\n",
            "/usr/local/lib/python3.7/dist-packages/sklearn/utils/deprecation.py:144: FutureWarning: The sklearn.neighbors.base module is  deprecated in version 0.22 and will be removed in version 0.24. The corresponding classes / functions should instead be imported from sklearn.neighbors. Anything that cannot be imported from sklearn.neighbors is now part of the private API.\n",
            "  warnings.warn(message, FutureWarning)\n"
          ]
        }
      ]
    },
    {
      "cell_type": "code",
      "metadata": {
        "colab": {
          "resources": {
            "http://localhost:8080/nbextensions/google.colab/files.js": {
              "data": "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",
              "ok": true,
              "headers": [
                [
                  "content-type",
                  "application/javascript"
                ]
              ],
              "status": 200,
              "status_text": ""
            }
          },
          "base_uri": "https://localhost:8080/",
          "height": 140
        },
        "id": "CYwQRKu_UtBf",
        "outputId": "5c008d22-3f32-4dc5-9cbe-9fb4c0d02465"
      },
      "source": [
        "######## Wells Fargo Competition Random Forest\n",
        "\n",
        "from google.colab import files\n",
        "uploaded = files.upload()\n",
        "import io\n",
        "\n",
        "train_data = pd.read_csv(io.BytesIO(uploaded['Simulated_Data_Train.csv']))\n",
        "valid_data = pd.read_csv(io.BytesIO(uploaded['Simulated_Data_Validation.csv'])) #pick all three files at the same time\n",
        "test_data = pd.read_csv(io.BytesIO(uploaded['Simulated_Data_Test.csv']))\n"
      ],
      "execution_count": 2,
      "outputs": [
        {
          "output_type": "display_data",
          "data": {
            "text/html": [
              "\n",
              "     <input type=\"file\" id=\"files-60ec4db9-2675-484f-8807-513a8725cb26\" name=\"files[]\" multiple disabled\n",
              "        style=\"border:none\" />\n",
              "     <output id=\"result-60ec4db9-2675-484f-8807-513a8725cb26\">\n",
              "      Upload widget is only available when the cell has been executed in the\n",
              "      current browser session. Please rerun this cell to enable.\n",
              "      </output>\n",
              "      <script src=\"/nbextensions/google.colab/files.js\"></script> "
            ],
            "text/plain": [
              "<IPython.core.display.HTML object>"
            ]
          },
          "metadata": {}
        },
        {
          "output_type": "stream",
          "name": "stdout",
          "text": [
            "Saving Simulated_Data_Train.csv to Simulated_Data_Train.csv\n",
            "Saving Simulated_Data_Validation.csv to Simulated_Data_Validation.csv\n",
            "Saving Simulated_Data_Test.csv to Simulated_Data_Test.csv\n"
          ]
        }
      ]
    },
    {
      "cell_type": "code",
      "metadata": {
        "colab": {
          "base_uri": "https://localhost:8080/"
        },
        "id": "AmTy_zOX7E1V",
        "outputId": "d37bdfce-f87b-49e6-f456-5a86d8a6a760"
      },
      "source": [
        "print(train_data)\n",
        "print(valid_data)\n",
        "print(test_data)"
      ],
      "execution_count": null,
      "outputs": [
        {
          "name": "stdout",
          "output_type": "stream",
          "text": [
            "       tot_credit_debt  avg_card_debt  ...  States  Default_ind\n",
            "0             80826.71       15872.99  ...      AL          0.0\n",
            "1             96052.60       12178.02  ...      FL          0.0\n",
            "2             75212.76       12052.24  ...      AL          0.0\n",
            "3             70727.84        8416.80  ...      SC          1.0\n",
            "4             41604.47       10611.97  ...      LA          0.0\n",
            "...                ...            ...  ...     ...          ...\n",
            "19995        104765.01       13905.40  ...      GA          0.0\n",
            "19996         83990.07       10325.02  ...      NC          0.0\n",
            "19997        107606.69       17838.79  ...      SC          0.0\n",
            "19998         78787.72       11447.61  ...      AL          0.0\n",
            "19999         78296.90       10053.16  ...      AL          0.0\n",
            "\n",
            "[20000 rows x 21 columns]\n",
            "      tot_credit_debt  avg_card_debt  ...  States  Default_ind\n",
            "0            63651.27        9019.99  ...      FL          1.0\n",
            "1           105559.29       16692.19  ...      MS          0.0\n",
            "2            96062.99       10509.13  ...      MS          0.0\n",
            "3            84417.40       13873.96  ...      MS          0.0\n",
            "4           100623.91       15592.09  ...      NC          0.0\n",
            "...               ...            ...  ...     ...          ...\n",
            "2995         90748.88       11481.81  ...      FL          0.0\n",
            "2996        101930.98       15242.30  ...      AL          0.0\n",
            "2997         74738.73       12175.49  ...      LA          0.0\n",
            "2998        120357.58       14477.70  ...      NC          0.0\n",
            "2999         74240.17       11873.45  ...      MS          0.0\n",
            "\n",
            "[3000 rows x 21 columns]\n",
            "      tot_credit_debt  avg_card_debt  ...  States  Default_ind\n",
            "0            40477.81        7766.64  ...      FL          0.0\n",
            "1           106760.98       16606.98  ...      AL          0.0\n",
            "2           121428.34       13910.13  ...      MS          0.0\n",
            "3            96515.05       15436.78  ...      AL          0.0\n",
            "4           123760.22       14213.25  ...      GA          0.0\n",
            "...               ...            ...  ...     ...          ...\n",
            "4995         90788.44       11646.36  ...      LA          0.0\n",
            "4996         91052.81       16505.20  ...      SC          0.0\n",
            "4997         71061.71       11512.18  ...      LA          0.0\n",
            "4998         82162.45       10014.90  ...      MS          0.0\n",
            "4999        116943.32       18042.56  ...      MS          0.0\n",
            "\n",
            "[5000 rows x 21 columns]\n"
          ]
        }
      ]
    },
    {
      "cell_type": "code",
      "metadata": {
        "id": "EjXJosZj7Mhb"
      },
      "source": [
        "####Part 1: Clean Data"
      ],
      "execution_count": null,
      "outputs": []
    },
    {
      "cell_type": "code",
      "metadata": {
        "colab": {
          "base_uri": "https://localhost:8080/"
        },
        "id": "QCzyRy617SCz",
        "outputId": "942cea41-47fd-403f-8378-04e1579b42a8"
      },
      "source": [
        "###Train Data\n",
        "#This is similar to str() from R\n",
        "for column in train_data:\n",
        "    unique_vals = np.unique(train_data[column])\n",
        "    nr_values = len(unique_vals)\n",
        "    if nr_values < 12:\n",
        "        print('The number of values for feature {} :{} -- {}'.format(column, nr_values,unique_vals))\n",
        "    else:\n",
        "        print('The number of values for feature {} :{}'.format(column, nr_values))\n",
        "\n",
        "#Shows which predictors have missing values\n",
        "train_data.isnull().sum() #Rep_income, uti_card_50plus_pct, \n",
        "\n",
        "#Shows the name of each columns\n",
        "train_data.columns\n",
        "\n",
        "#Find how many 99999 there are in avg_card_debt, and replacing the 99999 with NA\n",
        "train_data.avg_card_debt == 99999\n",
        "train_data[train_data['avg_card_debt'] == 99999] #There's 212 of 99999, this could skew the data\n",
        "\n",
        "train_data['avg_card_debt'].replace(99999,np.nan,inplace=True)\n",
        "train_data.replace(to_replace = 99999.0, value = np.nan)\n",
        "train_data.avg_card_debt.max()\n",
        "train_data['uti_card_50plus_pct'].replace(\"\", np.nan,inplace=True)\n",
        "train_data['rep_income'].replace(\"\", np.nan, inplace=True)\n",
        "\n",
        "\n",
        "\n",
        "#Fixing column name\n",
        "train_data.columns = train_data.columns.str.replace(' ', '') #gets rid of all spaces in columns\n",
        "\n",
        "#turning columns into factor\n",
        "train_data['States'] = pd.Categorical(train_data.States) #Run all categories instead\n",
        "train_data['ind_acc_XYZ'] = pd.Categorical(train_data.ind_acc_XYZ)\n",
        "train_data['card_open_36_month_num'] = pd.Categorical(train_data.card_open_36_month_num)\n",
        "train_data['Default_ind'] = pd.Categorical(train_data.Default_ind)\n",
        "train_data['auto_open_36_month_num'] = pd.Categorical(train_data.auto_open_36_month_num)\n",
        "train_data['mortgages_past_due_6_months_num'] = pd.Categorical(train_data.mortgages_past_due_6_months_num)\n",
        "train_data['non_mtg_acc_past_due_6_months_num'] = pd.Categorical(train_data.non_mtg_acc_past_due_6_months_num)\n",
        "train_data['non_mtg_acc_past_due_12_months_num'] = pd.Categorical(train_data.non_mtg_acc_past_due_12_months_num)\n",
        "\n",
        "#or\n",
        "numeric = train_data.select_dtypes(include=np.number)\n",
        "numeric_columns = numeric.columns\n",
        "train_data[numeric_columns] = train_data[numeric_columns].fillna(train_data.mean())\n",
        "train_data.isna().sum()/len(train_data)*100"
      ],
      "execution_count": 3,
      "outputs": [
        {
          "output_type": "stream",
          "name": "stdout",
          "text": [
            "The number of values for feature tot_credit_debt :19978\n",
            "The number of values for feature avg_card_debt :19607\n",
            "The number of values for feature credit_age :410\n",
            "The number of values for feature credit_good_age :243\n",
            "The number of values for feature card_age :383\n",
            "The number of values for feature non_mtg_acc_past_due_12_months_num :5 -- [0. 1. 2. 3. 4.]\n",
            "The number of values for feature non_mtg_acc_past_due_6_months_num :3 -- [0. 1. 2.]\n",
            "The number of values for feature mortgages_past_due_6_months_num :2 -- [0. 1.]\n",
            "The number of values for feature credit_past_due_amount :605\n",
            "The number of values for feature inq_12_month_num :11 -- [ 0.  1.  2.  3.  4.  5.  6.  7.  8.  9. 10.]\n",
            "The number of values for feature card_inq_24_month_num :19\n",
            "The number of values for feature card_open_36_month_num :3 -- [0. 1. 2.]\n",
            "The number of values for feature auto_open_ 36_month_num :3 -- [0. 1. 2.]\n",
            "The number of values for feature uti_card :20000\n",
            "The number of values for feature uti_50plus_pct :20000\n",
            "The number of values for feature uti_max_credit_line :20000\n",
            "The number of values for feature uti_card_50plus_pct :20000\n",
            "The number of values for feature ind_acc_XYZ :2 -- [0. 1.]\n",
            "The number of values for feature rep_income :1687\n",
            "The number of values for feature States :7 -- ['AL' 'FL' 'GA' 'LA' 'MS' 'NC' 'SC']\n",
            "The number of values for feature Default_ind :2 -- [0. 1.]\n"
          ]
        },
        {
          "output_type": "execute_result",
          "data": {
            "text/plain": [
              "tot_credit_debt                       0.0\n",
              "avg_card_debt                         0.0\n",
              "credit_age                            0.0\n",
              "credit_good_age                       0.0\n",
              "card_age                              0.0\n",
              "non_mtg_acc_past_due_12_months_num    0.0\n",
              "non_mtg_acc_past_due_6_months_num     0.0\n",
              "mortgages_past_due_6_months_num       0.0\n",
              "credit_past_due_amount                0.0\n",
              "inq_12_month_num                      0.0\n",
              "card_inq_24_month_num                 0.0\n",
              "card_open_36_month_num                0.0\n",
              "auto_open_36_month_num                0.0\n",
              "uti_card                              0.0\n",
              "uti_50plus_pct                        0.0\n",
              "uti_max_credit_line                   0.0\n",
              "uti_card_50plus_pct                   0.0\n",
              "ind_acc_XYZ                           0.0\n",
              "rep_income                            0.0\n",
              "States                                0.0\n",
              "Default_ind                           0.0\n",
              "dtype: float64"
            ]
          },
          "metadata": {},
          "execution_count": 3
        }
      ]
    },
    {
      "cell_type": "code",
      "metadata": {
        "colab": {
          "base_uri": "https://localhost:8080/"
        },
        "id": "cmObsiep7sE5",
        "outputId": "2bb2089f-bd0f-4b35-f111-a6dfb35aec31"
      },
      "source": [
        "###Valid Data\n",
        "#Find how many 99999 there are in avg_card_debt, and replacing the 99999 with NA\n",
        "valid_data.avg_card_debt == 99999\n",
        "valid_data[valid_data['avg_card_debt'] == 99999] #There's 30 of 99999, this could skew the data\n",
        "\n",
        "valid_data['avg_card_debt'].replace(99999,np.nan,inplace=True)\n",
        "valid_data.replace(to_replace = 99999.0, value = np.nan)\n",
        "valid_data.avg_card_debt.max()\n",
        "valid_data['uti_card_50plus_pct'].replace(\"\", np.nan,inplace=True)\n",
        "valid_data['rep_income'].replace(\"\", np.nan, inplace=True)\n",
        "\n",
        "\n",
        "\n",
        "#Fixing column name\n",
        "valid_data.columns = valid_data.columns.str.replace(' ', '') #gets rid of all spaces in columns\n",
        "\n",
        "#turning columns into factor\n",
        "valid_data['States'] = pd.Categorical(valid_data.States) #Run all categories instead\n",
        "valid_data['ind_acc_XYZ'] = pd.Categorical(valid_data.ind_acc_XYZ)\n",
        "valid_data['card_open_36_month_num'] = pd.Categorical(valid_data.card_open_36_month_num)\n",
        "valid_data['Default_ind'] = pd.Categorical(valid_data.Default_ind)\n",
        "valid_data['auto_open_36_month_num'] = pd.Categorical(valid_data.auto_open_36_month_num)\n",
        "valid_data['mortgages_past_due_6_months_num'] = pd.Categorical(valid_data.mortgages_past_due_6_months_num)\n",
        "valid_data['non_mtg_acc_past_due_6_months_num'] = pd.Categorical(valid_data.non_mtg_acc_past_due_6_months_num)\n",
        "valid_data['non_mtg_acc_past_due_12_months_num'] = pd.Categorical(valid_data.non_mtg_acc_past_due_12_months_num)\n",
        "\n",
        "###1.2: Imputation to missing data\n",
        "valid_data.dtypes #to see what data types they are\n",
        "\n",
        "numeric_valid = valid_data.select_dtypes(include=np.number)\n",
        "numeric_columns_valid = numeric_valid.columns\n",
        "valid_data[numeric_columns_valid] = valid_data[numeric_columns_valid].fillna(valid_data.mean())\n",
        "valid_data.isna().sum()/len(valid_data)*100"
      ],
      "execution_count": 4,
      "outputs": [
        {
          "output_type": "execute_result",
          "data": {
            "text/plain": [
              "tot_credit_debt                       0.0\n",
              "avg_card_debt                         0.0\n",
              "credit_age                            0.0\n",
              "credit_good_age                       0.0\n",
              "card_age                              0.0\n",
              "non_mtg_acc_past_due_12_months_num    0.0\n",
              "non_mtg_acc_past_due_6_months_num     0.0\n",
              "mortgages_past_due_6_months_num       0.0\n",
              "credit_past_due_amount                0.0\n",
              "inq_12_month_num                      0.0\n",
              "card_inq_24_month_num                 0.0\n",
              "card_open_36_month_num                0.0\n",
              "auto_open_36_month_num                0.0\n",
              "uti_card                              0.0\n",
              "uti_50plus_pct                        0.0\n",
              "uti_max_credit_line                   0.0\n",
              "uti_card_50plus_pct                   0.0\n",
              "ind_acc_XYZ                           0.0\n",
              "rep_income                            0.0\n",
              "States                                0.0\n",
              "Default_ind                           0.0\n",
              "dtype: float64"
            ]
          },
          "metadata": {},
          "execution_count": 4
        }
      ]
    },
    {
      "cell_type": "code",
      "metadata": {
        "colab": {
          "base_uri": "https://localhost:8080/"
        },
        "id": "qneepdWI75I1",
        "outputId": "d06bcbd2-4022-483c-f9b0-80c996afb61b"
      },
      "source": [
        "###Test data\n",
        "test_data.avg_card_debt == 99999\n",
        "test_data[test_data['avg_card_debt'] == 99999] #There's 30 of 99999, this could skew the data\n",
        "\n",
        "test_data['avg_card_debt'].replace(99999,np.nan,inplace=True)\n",
        "test_data.replace(to_replace = 99999.0, value = np.nan)\n",
        "test_data.avg_card_debt.max()\n",
        "test_data['uti_card_50plus_pct'].replace(\"\", np.nan,inplace=True)\n",
        "test_data['rep_income'].replace(\"\", np.nan, inplace=True)\n",
        "\n",
        "\n",
        "\n",
        "#Fixing column name\n",
        "test_data.columns = test_data.columns.str.replace(' ', '') #gets rid of all spaces in columns\n",
        "\n",
        "#turning columns into factor\n",
        "test_data['States'] = pd.Categorical(test_data.States) #Run all categories instead\n",
        "test_data['ind_acc_XYZ'] = pd.Categorical(test_data.ind_acc_XYZ)\n",
        "test_data['card_open_36_month_num'] = pd.Categorical(test_data.card_open_36_month_num)\n",
        "test_data['Default_ind'] = pd.Categorical(test_data.Default_ind)\n",
        "test_data['auto_open_36_month_num'] = pd.Categorical(test_data.auto_open_36_month_num)\n",
        "test_data['mortgages_past_due_6_months_num'] = pd.Categorical(test_data.mortgages_past_due_6_months_num)\n",
        "test_data['non_mtg_acc_past_due_6_months_num'] = pd.Categorical(test_data.non_mtg_acc_past_due_6_months_num)\n",
        "test_data['non_mtg_acc_past_due_12_months_num'] = pd.Categorical(test_data.non_mtg_acc_past_due_12_months_num)\n",
        "\n",
        "###1.2: Imputation to missing data\n",
        "test_data.dtypes #to see what data types they are\n",
        "\n",
        "\n",
        "numeric_test = test_data.select_dtypes(include=np.number)\n",
        "numeric_columns_test = numeric_valid.columns\n",
        "test_data[numeric_columns_test] = test_data[numeric_columns_test].fillna(test_data.mean())\n",
        "test_data.isna().sum()/len(test_data)*100\n"
      ],
      "execution_count": 5,
      "outputs": [
        {
          "output_type": "execute_result",
          "data": {
            "text/plain": [
              "tot_credit_debt                       0.0\n",
              "avg_card_debt                         0.0\n",
              "credit_age                            0.0\n",
              "credit_good_age                       0.0\n",
              "card_age                              0.0\n",
              "non_mtg_acc_past_due_12_months_num    0.0\n",
              "non_mtg_acc_past_due_6_months_num     0.0\n",
              "mortgages_past_due_6_months_num       0.0\n",
              "credit_past_due_amount                0.0\n",
              "inq_12_month_num                      0.0\n",
              "card_inq_24_month_num                 0.0\n",
              "card_open_36_month_num                0.0\n",
              "auto_open_36_month_num                0.0\n",
              "uti_card                              0.0\n",
              "uti_50plus_pct                        0.0\n",
              "uti_max_credit_line                   0.0\n",
              "uti_card_50plus_pct                   0.0\n",
              "ind_acc_XYZ                           0.0\n",
              "rep_income                            0.0\n",
              "States                                0.0\n",
              "Default_ind                           0.0\n",
              "dtype: float64"
            ]
          },
          "metadata": {},
          "execution_count": 5
        }
      ]
    },
    {
      "cell_type": "code",
      "metadata": {
        "id": "aPXynZWI8Aqw"
      },
      "source": [
        "####Part 2: putting up dummies and scaling our predictors"
      ],
      "execution_count": null,
      "outputs": []
    },
    {
      "cell_type": "code",
      "metadata": {
        "colab": {
          "base_uri": "https://localhost:8080/",
          "height": 224
        },
        "id": "3rW1LxNM8Pvd",
        "outputId": "0680ccbf-e269-40a0-ae51-e8060c3ca131"
      },
      "source": [
        "#######Train Data\n",
        "#Part 1: replacing the categories/object with dummies\n",
        "new_train_data = pd.get_dummies(train_data, columns = ['non_mtg_acc_past_due_12_months_num','non_mtg_acc_past_due_6_months_num','ind_acc_XYZ', 'card_open_36_month_num'])\n",
        "new_train_data.columns\n",
        "new_train_data.dtypes\n",
        "new_train_data\n",
        "\n",
        "#Part 2: Setting up scaled numerics for predictors\n",
        "scale_vars = ['tot_credit_debt','avg_card_debt','credit_age','card_age','inq_12_month_num','uti_card','rep_income']\n",
        "scaler = MinMaxScaler()\n",
        "new_train_data[scale_vars] = scaler.fit_transform(new_train_data[scale_vars])\n",
        "new_train_data.head()\n"
      ],
      "execution_count": 6,
      "outputs": [
        {
          "output_type": "execute_result",
          "data": {
            "text/html": [
              "<div>\n",
              "<style scoped>\n",
              "    .dataframe tbody tr th:only-of-type {\n",
              "        vertical-align: middle;\n",
              "    }\n",
              "\n",
              "    .dataframe tbody tr th {\n",
              "        vertical-align: top;\n",
              "    }\n",
              "\n",
              "    .dataframe thead th {\n",
              "        text-align: right;\n",
              "    }\n",
              "</style>\n",
              "<table border=\"1\" class=\"dataframe\">\n",
              "  <thead>\n",
              "    <tr style=\"text-align: right;\">\n",
              "      <th></th>\n",
              "      <th>tot_credit_debt</th>\n",
              "      <th>avg_card_debt</th>\n",
              "      <th>credit_age</th>\n",
              "      <th>credit_good_age</th>\n",
              "      <th>card_age</th>\n",
              "      <th>mortgages_past_due_6_months_num</th>\n",
              "      <th>credit_past_due_amount</th>\n",
              "      <th>inq_12_month_num</th>\n",
              "      <th>card_inq_24_month_num</th>\n",
              "      <th>auto_open_36_month_num</th>\n",
              "      <th>uti_card</th>\n",
              "      <th>uti_50plus_pct</th>\n",
              "      <th>uti_max_credit_line</th>\n",
              "      <th>uti_card_50plus_pct</th>\n",
              "      <th>rep_income</th>\n",
              "      <th>States</th>\n",
              "      <th>Default_ind</th>\n",
              "      <th>non_mtg_acc_past_due_12_months_num_0.0</th>\n",
              "      <th>non_mtg_acc_past_due_12_months_num_1.0</th>\n",
              "      <th>non_mtg_acc_past_due_12_months_num_2.0</th>\n",
              "      <th>non_mtg_acc_past_due_12_months_num_3.0</th>\n",
              "      <th>non_mtg_acc_past_due_12_months_num_4.0</th>\n",
              "      <th>non_mtg_acc_past_due_6_months_num_0.0</th>\n",
              "      <th>non_mtg_acc_past_due_6_months_num_1.0</th>\n",
              "      <th>non_mtg_acc_past_due_6_months_num_2.0</th>\n",
              "      <th>ind_acc_XYZ_0.0</th>\n",
              "      <th>ind_acc_XYZ_1.0</th>\n",
              "      <th>card_open_36_month_num_0.0</th>\n",
              "      <th>card_open_36_month_num_1.0</th>\n",
              "      <th>card_open_36_month_num_2.0</th>\n",
              "    </tr>\n",
              "  </thead>\n",
              "  <tbody>\n",
              "    <tr>\n",
              "      <th>0</th>\n",
              "      <td>0.420640</td>\n",
              "      <td>0.767716</td>\n",
              "      <td>0.501018</td>\n",
              "      <td>114.0</td>\n",
              "      <td>0.524008</td>\n",
              "      <td>0.0</td>\n",
              "      <td>0.00</td>\n",
              "      <td>0.3</td>\n",
              "      <td>4.0</td>\n",
              "      <td>0.0</td>\n",
              "      <td>0.332661</td>\n",
              "      <td>0.475594</td>\n",
              "      <td>0.410504</td>\n",
              "      <td>0.489594</td>\n",
              "      <td>0.413043</td>\n",
              "      <td>AL</td>\n",
              "      <td>0.0</td>\n",
              "      <td>1</td>\n",
              "      <td>0</td>\n",
              "      <td>0</td>\n",
              "      <td>0</td>\n",
              "      <td>0</td>\n",
              "      <td>1</td>\n",
              "      <td>0</td>\n",
              "      <td>0</td>\n",
              "      <td>1</td>\n",
              "      <td>0</td>\n",
              "      <td>1</td>\n",
              "      <td>0</td>\n",
              "      <td>0</td>\n",
              "    </tr>\n",
              "    <tr>\n",
              "      <th>1</th>\n",
              "      <td>0.502270</td>\n",
              "      <td>0.557744</td>\n",
              "      <td>0.462322</td>\n",
              "      <td>102.0</td>\n",
              "      <td>0.398747</td>\n",
              "      <td>0.0</td>\n",
              "      <td>0.00</td>\n",
              "      <td>0.2</td>\n",
              "      <td>4.0</td>\n",
              "      <td>0.0</td>\n",
              "      <td>0.528293</td>\n",
              "      <td>0.543158</td>\n",
              "      <td>0.535147</td>\n",
              "      <td>0.587351</td>\n",
              "      <td>0.355072</td>\n",
              "      <td>FL</td>\n",
              "      <td>0.0</td>\n",
              "      <td>1</td>\n",
              "      <td>0</td>\n",
              "      <td>0</td>\n",
              "      <td>0</td>\n",
              "      <td>0</td>\n",
              "      <td>1</td>\n",
              "      <td>0</td>\n",
              "      <td>0</td>\n",
              "      <td>1</td>\n",
              "      <td>0</td>\n",
              "      <td>0</td>\n",
              "      <td>1</td>\n",
              "      <td>0</td>\n",
              "    </tr>\n",
              "    <tr>\n",
              "      <th>2</th>\n",
              "      <td>0.390542</td>\n",
              "      <td>0.550597</td>\n",
              "      <td>0.421589</td>\n",
              "      <td>149.0</td>\n",
              "      <td>0.457203</td>\n",
              "      <td>0.0</td>\n",
              "      <td>0.00</td>\n",
              "      <td>0.1</td>\n",
              "      <td>3.0</td>\n",
              "      <td>1.0</td>\n",
              "      <td>0.285962</td>\n",
              "      <td>0.321776</td>\n",
              "      <td>0.348713</td>\n",
              "      <td>0.413293</td>\n",
              "      <td>0.460141</td>\n",
              "      <td>AL</td>\n",
              "      <td>0.0</td>\n",
              "      <td>1</td>\n",
              "      <td>0</td>\n",
              "      <td>0</td>\n",
              "      <td>0</td>\n",
              "      <td>0</td>\n",
              "      <td>1</td>\n",
              "      <td>0</td>\n",
              "      <td>0</td>\n",
              "      <td>1</td>\n",
              "      <td>0</td>\n",
              "      <td>1</td>\n",
              "      <td>0</td>\n",
              "      <td>0</td>\n",
              "    </tr>\n",
              "    <tr>\n",
              "      <th>3</th>\n",
              "      <td>0.366498</td>\n",
              "      <td>0.344008</td>\n",
              "      <td>0.352342</td>\n",
              "      <td>93.0</td>\n",
              "      <td>0.379958</td>\n",
              "      <td>1.0</td>\n",
              "      <td>11013.96</td>\n",
              "      <td>0.0</td>\n",
              "      <td>1.0</td>\n",
              "      <td>0.0</td>\n",
              "      <td>0.424258</td>\n",
              "      <td>0.422809</td>\n",
              "      <td>0.491365</td>\n",
              "      <td>0.466810</td>\n",
              "      <td>0.485507</td>\n",
              "      <td>SC</td>\n",
              "      <td>1.0</td>\n",
              "      <td>0</td>\n",
              "      <td>0</td>\n",
              "      <td>1</td>\n",
              "      <td>0</td>\n",
              "      <td>0</td>\n",
              "      <td>0</td>\n",
              "      <td>1</td>\n",
              "      <td>0</td>\n",
              "      <td>1</td>\n",
              "      <td>0</td>\n",
              "      <td>0</td>\n",
              "      <td>1</td>\n",
              "      <td>0</td>\n",
              "    </tr>\n",
              "    <tr>\n",
              "      <th>4</th>\n",
              "      <td>0.210360</td>\n",
              "      <td>0.468752</td>\n",
              "      <td>0.397149</td>\n",
              "      <td>136.0</td>\n",
              "      <td>0.417537</td>\n",
              "      <td>0.0</td>\n",
              "      <td>0.00</td>\n",
              "      <td>0.0</td>\n",
              "      <td>2.0</td>\n",
              "      <td>0.0</td>\n",
              "      <td>0.640267</td>\n",
              "      <td>0.619987</td>\n",
              "      <td>0.546655</td>\n",
              "      <td>0.588442</td>\n",
              "      <td>0.460141</td>\n",
              "      <td>LA</td>\n",
              "      <td>0.0</td>\n",
              "      <td>1</td>\n",
              "      <td>0</td>\n",
              "      <td>0</td>\n",
              "      <td>0</td>\n",
              "      <td>0</td>\n",
              "      <td>1</td>\n",
              "      <td>0</td>\n",
              "      <td>0</td>\n",
              "      <td>0</td>\n",
              "      <td>1</td>\n",
              "      <td>1</td>\n",
              "      <td>0</td>\n",
              "      <td>0</td>\n",
              "    </tr>\n",
              "  </tbody>\n",
              "</table>\n",
              "</div>"
            ],
            "text/plain": [
              "   tot_credit_debt  ...  card_open_36_month_num_2.0\n",
              "0         0.420640  ...                           0\n",
              "1         0.502270  ...                           0\n",
              "2         0.390542  ...                           0\n",
              "3         0.366498  ...                           0\n",
              "4         0.210360  ...                           0\n",
              "\n",
              "[5 rows x 30 columns]"
            ]
          },
          "metadata": {},
          "execution_count": 6
        }
      ]
    },
    {
      "cell_type": "code",
      "metadata": {
        "colab": {
          "base_uri": "https://localhost:8080/",
          "height": 224
        },
        "id": "6cRz8ROm8t28",
        "outputId": "b0c8a433-ae26-4e27-856e-e3dda1423aac"
      },
      "source": [
        "#######Valid Data\n",
        "#1.3: Putting dummies in categories\n",
        "new_valid_data = pd.get_dummies(valid_data, columns = ['non_mtg_acc_past_due_12_months_num','non_mtg_acc_past_due_6_months_num','ind_acc_XYZ', 'card_open_36_month_num'])\n",
        "new_valid_data.columns\n",
        "new_valid_data.dtypes\n",
        "new_valid_data #summary: it seems that when I do dummies, I seem to create another column where it splits the column 0 and 1 (ex. default.0 and default 1.0)\n",
        "\n",
        "#1.4: Scale version\n",
        "scale_vars_valid = ['tot_credit_debt','avg_card_debt','credit_age','card_age','inq_12_month_num','uti_card','rep_income']\n",
        "scaler = MinMaxScaler()\n",
        "new_valid_data[scale_vars_valid] = scaler.fit_transform(new_valid_data[scale_vars_valid])\n",
        "new_valid_data.head()"
      ],
      "execution_count": 7,
      "outputs": [
        {
          "output_type": "execute_result",
          "data": {
            "text/html": [
              "<div>\n",
              "<style scoped>\n",
              "    .dataframe tbody tr th:only-of-type {\n",
              "        vertical-align: middle;\n",
              "    }\n",
              "\n",
              "    .dataframe tbody tr th {\n",
              "        vertical-align: top;\n",
              "    }\n",
              "\n",
              "    .dataframe thead th {\n",
              "        text-align: right;\n",
              "    }\n",
              "</style>\n",
              "<table border=\"1\" class=\"dataframe\">\n",
              "  <thead>\n",
              "    <tr style=\"text-align: right;\">\n",
              "      <th></th>\n",
              "      <th>tot_credit_debt</th>\n",
              "      <th>avg_card_debt</th>\n",
              "      <th>credit_age</th>\n",
              "      <th>credit_good_age</th>\n",
              "      <th>card_age</th>\n",
              "      <th>mortgages_past_due_6_months_num</th>\n",
              "      <th>credit_past_due_amount</th>\n",
              "      <th>inq_12_month_num</th>\n",
              "      <th>card_inq_24_month_num</th>\n",
              "      <th>auto_open_36_month_num</th>\n",
              "      <th>uti_card</th>\n",
              "      <th>uti_50plus_pct</th>\n",
              "      <th>uti_max_credit_line</th>\n",
              "      <th>uti_card_50plus_pct</th>\n",
              "      <th>rep_income</th>\n",
              "      <th>States</th>\n",
              "      <th>Default_ind</th>\n",
              "      <th>non_mtg_acc_past_due_12_months_num_0.0</th>\n",
              "      <th>non_mtg_acc_past_due_12_months_num_1.0</th>\n",
              "      <th>non_mtg_acc_past_due_12_months_num_2.0</th>\n",
              "      <th>non_mtg_acc_past_due_12_months_num_3.0</th>\n",
              "      <th>non_mtg_acc_past_due_12_months_num_4.0</th>\n",
              "      <th>non_mtg_acc_past_due_6_months_num_0.0</th>\n",
              "      <th>non_mtg_acc_past_due_6_months_num_1.0</th>\n",
              "      <th>non_mtg_acc_past_due_6_months_num_2.0</th>\n",
              "      <th>ind_acc_XYZ_0.0</th>\n",
              "      <th>ind_acc_XYZ_1.0</th>\n",
              "      <th>card_open_36_month_num_0.0</th>\n",
              "      <th>card_open_36_month_num_1.0</th>\n",
              "      <th>card_open_36_month_num_2.0</th>\n",
              "    </tr>\n",
              "  </thead>\n",
              "  <tbody>\n",
              "    <tr>\n",
              "      <th>0</th>\n",
              "      <td>0.321541</td>\n",
              "      <td>0.380420</td>\n",
              "      <td>0.946009</td>\n",
              "      <td>242.0</td>\n",
              "      <td>0.791563</td>\n",
              "      <td>0.0</td>\n",
              "      <td>0.0</td>\n",
              "      <td>0.000</td>\n",
              "      <td>0.0</td>\n",
              "      <td>0.0</td>\n",
              "      <td>0.684961</td>\n",
              "      <td>0.624652</td>\n",
              "      <td>0.506910</td>\n",
              "      <td>0.530109</td>\n",
              "      <td>0.325000</td>\n",
              "      <td>FL</td>\n",
              "      <td>1.0</td>\n",
              "      <td>1</td>\n",
              "      <td>0</td>\n",
              "      <td>0</td>\n",
              "      <td>0</td>\n",
              "      <td>0</td>\n",
              "      <td>1</td>\n",
              "      <td>0</td>\n",
              "      <td>0</td>\n",
              "      <td>1</td>\n",
              "      <td>0</td>\n",
              "      <td>1</td>\n",
              "      <td>0</td>\n",
              "      <td>0</td>\n",
              "    </tr>\n",
              "    <tr>\n",
              "      <th>1</th>\n",
              "      <td>0.588301</td>\n",
              "      <td>0.858151</td>\n",
              "      <td>0.307512</td>\n",
              "      <td>118.0</td>\n",
              "      <td>0.334988</td>\n",
              "      <td>0.0</td>\n",
              "      <td>0.0</td>\n",
              "      <td>0.500</td>\n",
              "      <td>7.0</td>\n",
              "      <td>1.0</td>\n",
              "      <td>0.421386</td>\n",
              "      <td>0.533489</td>\n",
              "      <td>0.340476</td>\n",
              "      <td>0.388792</td>\n",
              "      <td>0.233333</td>\n",
              "      <td>MS</td>\n",
              "      <td>0.0</td>\n",
              "      <td>1</td>\n",
              "      <td>0</td>\n",
              "      <td>0</td>\n",
              "      <td>0</td>\n",
              "      <td>0</td>\n",
              "      <td>1</td>\n",
              "      <td>0</td>\n",
              "      <td>0</td>\n",
              "      <td>1</td>\n",
              "      <td>0</td>\n",
              "      <td>1</td>\n",
              "      <td>0</td>\n",
              "      <td>0</td>\n",
              "    </tr>\n",
              "    <tr>\n",
              "      <th>2</th>\n",
              "      <td>0.527854</td>\n",
              "      <td>0.473146</td>\n",
              "      <td>0.408451</td>\n",
              "      <td>123.0</td>\n",
              "      <td>0.258065</td>\n",
              "      <td>0.0</td>\n",
              "      <td>0.0</td>\n",
              "      <td>0.250</td>\n",
              "      <td>3.0</td>\n",
              "      <td>0.0</td>\n",
              "      <td>0.433946</td>\n",
              "      <td>0.422643</td>\n",
              "      <td>0.418459</td>\n",
              "      <td>0.450523</td>\n",
              "      <td>0.491667</td>\n",
              "      <td>MS</td>\n",
              "      <td>0.0</td>\n",
              "      <td>1</td>\n",
              "      <td>0</td>\n",
              "      <td>0</td>\n",
              "      <td>0</td>\n",
              "      <td>0</td>\n",
              "      <td>1</td>\n",
              "      <td>0</td>\n",
              "      <td>0</td>\n",
              "      <td>1</td>\n",
              "      <td>0</td>\n",
              "      <td>1</td>\n",
              "      <td>0</td>\n",
              "      <td>0</td>\n",
              "    </tr>\n",
              "    <tr>\n",
              "      <th>3</th>\n",
              "      <td>0.453725</td>\n",
              "      <td>0.682666</td>\n",
              "      <td>0.584507</td>\n",
              "      <td>175.0</td>\n",
              "      <td>0.625310</td>\n",
              "      <td>0.0</td>\n",
              "      <td>0.0</td>\n",
              "      <td>0.125</td>\n",
              "      <td>1.0</td>\n",
              "      <td>0.0</td>\n",
              "      <td>0.728413</td>\n",
              "      <td>0.566563</td>\n",
              "      <td>0.399319</td>\n",
              "      <td>0.562153</td>\n",
              "      <td>0.691667</td>\n",
              "      <td>MS</td>\n",
              "      <td>0.0</td>\n",
              "      <td>1</td>\n",
              "      <td>0</td>\n",
              "      <td>0</td>\n",
              "      <td>0</td>\n",
              "      <td>0</td>\n",
              "      <td>1</td>\n",
              "      <td>0</td>\n",
              "      <td>0</td>\n",
              "      <td>1</td>\n",
              "      <td>0</td>\n",
              "      <td>1</td>\n",
              "      <td>0</td>\n",
              "      <td>0</td>\n",
              "    </tr>\n",
              "    <tr>\n",
              "      <th>4</th>\n",
              "      <td>0.556886</td>\n",
              "      <td>0.789651</td>\n",
              "      <td>0.295775</td>\n",
              "      <td>101.0</td>\n",
              "      <td>0.129032</td>\n",
              "      <td>0.0</td>\n",
              "      <td>0.0</td>\n",
              "      <td>0.750</td>\n",
              "      <td>9.0</td>\n",
              "      <td>0.0</td>\n",
              "      <td>0.638901</td>\n",
              "      <td>0.504849</td>\n",
              "      <td>0.652576</td>\n",
              "      <td>0.576409</td>\n",
              "      <td>0.465793</td>\n",
              "      <td>NC</td>\n",
              "      <td>0.0</td>\n",
              "      <td>1</td>\n",
              "      <td>0</td>\n",
              "      <td>0</td>\n",
              "      <td>0</td>\n",
              "      <td>0</td>\n",
              "      <td>1</td>\n",
              "      <td>0</td>\n",
              "      <td>0</td>\n",
              "      <td>0</td>\n",
              "      <td>1</td>\n",
              "      <td>1</td>\n",
              "      <td>0</td>\n",
              "      <td>0</td>\n",
              "    </tr>\n",
              "  </tbody>\n",
              "</table>\n",
              "</div>"
            ],
            "text/plain": [
              "   tot_credit_debt  ...  card_open_36_month_num_2.0\n",
              "0         0.321541  ...                           0\n",
              "1         0.588301  ...                           0\n",
              "2         0.527854  ...                           0\n",
              "3         0.453725  ...                           0\n",
              "4         0.556886  ...                           0\n",
              "\n",
              "[5 rows x 30 columns]"
            ]
          },
          "metadata": {},
          "execution_count": 7
        }
      ]
    },
    {
      "cell_type": "code",
      "metadata": {
        "colab": {
          "base_uri": "https://localhost:8080/",
          "height": 224
        },
        "id": "qQ9D7Ajv85UG",
        "outputId": "c8bda8b0-c9f6-424b-9183-9941ae9b21ff"
      },
      "source": [
        "#######Test Data\n",
        "#Putting up dummies in category predictors\n",
        "new_test_data = pd.get_dummies(test_data, columns = ['non_mtg_acc_past_due_12_months_num','non_mtg_acc_past_due_6_months_num','ind_acc_XYZ', 'card_open_36_month_num'])\n",
        "new_test_data.columns\n",
        "new_test_data.dtypes\n",
        "new_test_data #summary: it seems that when I do dummies, I seem to create another column where it splits the column 0 and 1 (ex. default.0 and default 1.0)\n",
        "\n",
        "#Scale version for numeric predictors\n",
        "scale_vars_test = ['tot_credit_debt','avg_card_debt','credit_age','card_age','inq_12_month_num','uti_card','rep_income']\n",
        "scaler = MinMaxScaler()\n",
        "new_test_data[scale_vars_test] = scaler.fit_transform(new_test_data[scale_vars_test])\n",
        "new_test_data.head()\n"
      ],
      "execution_count": 8,
      "outputs": [
        {
          "output_type": "execute_result",
          "data": {
            "text/html": [
              "<div>\n",
              "<style scoped>\n",
              "    .dataframe tbody tr th:only-of-type {\n",
              "        vertical-align: middle;\n",
              "    }\n",
              "\n",
              "    .dataframe tbody tr th {\n",
              "        vertical-align: top;\n",
              "    }\n",
              "\n",
              "    .dataframe thead th {\n",
              "        text-align: right;\n",
              "    }\n",
              "</style>\n",
              "<table border=\"1\" class=\"dataframe\">\n",
              "  <thead>\n",
              "    <tr style=\"text-align: right;\">\n",
              "      <th></th>\n",
              "      <th>tot_credit_debt</th>\n",
              "      <th>avg_card_debt</th>\n",
              "      <th>credit_age</th>\n",
              "      <th>credit_good_age</th>\n",
              "      <th>card_age</th>\n",
              "      <th>mortgages_past_due_6_months_num</th>\n",
              "      <th>credit_past_due_amount</th>\n",
              "      <th>inq_12_month_num</th>\n",
              "      <th>card_inq_24_month_num</th>\n",
              "      <th>auto_open_36_month_num</th>\n",
              "      <th>uti_card</th>\n",
              "      <th>uti_50plus_pct</th>\n",
              "      <th>uti_max_credit_line</th>\n",
              "      <th>uti_card_50plus_pct</th>\n",
              "      <th>rep_income</th>\n",
              "      <th>States</th>\n",
              "      <th>Default_ind</th>\n",
              "      <th>non_mtg_acc_past_due_12_months_num_0.0</th>\n",
              "      <th>non_mtg_acc_past_due_12_months_num_1.0</th>\n",
              "      <th>non_mtg_acc_past_due_12_months_num_2.0</th>\n",
              "      <th>non_mtg_acc_past_due_12_months_num_3.0</th>\n",
              "      <th>non_mtg_acc_past_due_12_months_num_4.0</th>\n",
              "      <th>non_mtg_acc_past_due_6_months_num_0.0</th>\n",
              "      <th>non_mtg_acc_past_due_6_months_num_1.0</th>\n",
              "      <th>non_mtg_acc_past_due_6_months_num_2.0</th>\n",
              "      <th>ind_acc_XYZ_0.0</th>\n",
              "      <th>ind_acc_XYZ_1.0</th>\n",
              "      <th>card_open_36_month_num_0.0</th>\n",
              "      <th>card_open_36_month_num_1.0</th>\n",
              "      <th>card_open_36_month_num_2.0</th>\n",
              "    </tr>\n",
              "  </thead>\n",
              "  <tbody>\n",
              "    <tr>\n",
              "      <th>0</th>\n",
              "      <td>0.186302</td>\n",
              "      <td>0.221244</td>\n",
              "      <td>0.497890</td>\n",
              "      <td>181.0</td>\n",
              "      <td>0.403756</td>\n",
              "      <td>0.0</td>\n",
              "      <td>0.0</td>\n",
              "      <td>0.25</td>\n",
              "      <td>4.0</td>\n",
              "      <td>1.0</td>\n",
              "      <td>0.636921</td>\n",
              "      <td>0.711887</td>\n",
              "      <td>0.538456</td>\n",
              "      <td>0.633699</td>\n",
              "      <td>0.078261</td>\n",
              "      <td>FL</td>\n",
              "      <td>0.0</td>\n",
              "      <td>1</td>\n",
              "      <td>0</td>\n",
              "      <td>0</td>\n",
              "      <td>0</td>\n",
              "      <td>0</td>\n",
              "      <td>1</td>\n",
              "      <td>0</td>\n",
              "      <td>0</td>\n",
              "      <td>1</td>\n",
              "      <td>0</td>\n",
              "      <td>1</td>\n",
              "      <td>0</td>\n",
              "      <td>0</td>\n",
              "    </tr>\n",
              "    <tr>\n",
              "      <th>1</th>\n",
              "      <td>0.593963</td>\n",
              "      <td>0.785989</td>\n",
              "      <td>0.500000</td>\n",
              "      <td>144.0</td>\n",
              "      <td>0.492958</td>\n",
              "      <td>0.0</td>\n",
              "      <td>0.0</td>\n",
              "      <td>0.25</td>\n",
              "      <td>4.0</td>\n",
              "      <td>0.0</td>\n",
              "      <td>0.785583</td>\n",
              "      <td>0.739732</td>\n",
              "      <td>0.562194</td>\n",
              "      <td>0.746901</td>\n",
              "      <td>0.260870</td>\n",
              "      <td>AL</td>\n",
              "      <td>0.0</td>\n",
              "      <td>1</td>\n",
              "      <td>0</td>\n",
              "      <td>0</td>\n",
              "      <td>0</td>\n",
              "      <td>0</td>\n",
              "      <td>1</td>\n",
              "      <td>0</td>\n",
              "      <td>0</td>\n",
              "      <td>0</td>\n",
              "      <td>1</td>\n",
              "      <td>1</td>\n",
              "      <td>0</td>\n",
              "      <td>0</td>\n",
              "    </tr>\n",
              "    <tr>\n",
              "      <th>2</th>\n",
              "      <td>0.684172</td>\n",
              "      <td>0.613707</td>\n",
              "      <td>0.580169</td>\n",
              "      <td>189.0</td>\n",
              "      <td>0.673709</td>\n",
              "      <td>0.0</td>\n",
              "      <td>0.0</td>\n",
              "      <td>0.00</td>\n",
              "      <td>1.0</td>\n",
              "      <td>0.0</td>\n",
              "      <td>0.501829</td>\n",
              "      <td>0.434104</td>\n",
              "      <td>0.374705</td>\n",
              "      <td>0.458438</td>\n",
              "      <td>0.469565</td>\n",
              "      <td>MS</td>\n",
              "      <td>0.0</td>\n",
              "      <td>1</td>\n",
              "      <td>0</td>\n",
              "      <td>0</td>\n",
              "      <td>0</td>\n",
              "      <td>0</td>\n",
              "      <td>1</td>\n",
              "      <td>0</td>\n",
              "      <td>0</td>\n",
              "      <td>1</td>\n",
              "      <td>0</td>\n",
              "      <td>1</td>\n",
              "      <td>0</td>\n",
              "      <td>0</td>\n",
              "    </tr>\n",
              "    <tr>\n",
              "      <th>3</th>\n",
              "      <td>0.530948</td>\n",
              "      <td>0.711233</td>\n",
              "      <td>0.544304</td>\n",
              "      <td>203.0</td>\n",
              "      <td>0.657277</td>\n",
              "      <td>0.0</td>\n",
              "      <td>0.0</td>\n",
              "      <td>0.00</td>\n",
              "      <td>0.0</td>\n",
              "      <td>0.0</td>\n",
              "      <td>0.457041</td>\n",
              "      <td>0.474768</td>\n",
              "      <td>0.372028</td>\n",
              "      <td>0.582352</td>\n",
              "      <td>0.443478</td>\n",
              "      <td>AL</td>\n",
              "      <td>0.0</td>\n",
              "      <td>1</td>\n",
              "      <td>0</td>\n",
              "      <td>0</td>\n",
              "      <td>0</td>\n",
              "      <td>0</td>\n",
              "      <td>1</td>\n",
              "      <td>0</td>\n",
              "      <td>0</td>\n",
              "      <td>0</td>\n",
              "      <td>1</td>\n",
              "      <td>1</td>\n",
              "      <td>0</td>\n",
              "      <td>0</td>\n",
              "    </tr>\n",
              "    <tr>\n",
              "      <th>4</th>\n",
              "      <td>0.698514</td>\n",
              "      <td>0.633071</td>\n",
              "      <td>0.599156</td>\n",
              "      <td>177.0</td>\n",
              "      <td>0.666667</td>\n",
              "      <td>0.0</td>\n",
              "      <td>0.0</td>\n",
              "      <td>0.00</td>\n",
              "      <td>0.0</td>\n",
              "      <td>0.0</td>\n",
              "      <td>0.615402</td>\n",
              "      <td>0.472634</td>\n",
              "      <td>0.605137</td>\n",
              "      <td>0.577697</td>\n",
              "      <td>0.513043</td>\n",
              "      <td>GA</td>\n",
              "      <td>0.0</td>\n",
              "      <td>1</td>\n",
              "      <td>0</td>\n",
              "      <td>0</td>\n",
              "      <td>0</td>\n",
              "      <td>0</td>\n",
              "      <td>1</td>\n",
              "      <td>0</td>\n",
              "      <td>0</td>\n",
              "      <td>1</td>\n",
              "      <td>0</td>\n",
              "      <td>1</td>\n",
              "      <td>0</td>\n",
              "      <td>0</td>\n",
              "    </tr>\n",
              "  </tbody>\n",
              "</table>\n",
              "</div>"
            ],
            "text/plain": [
              "   tot_credit_debt  ...  card_open_36_month_num_2.0\n",
              "0         0.186302  ...                           0\n",
              "1         0.593963  ...                           0\n",
              "2         0.684172  ...                           0\n",
              "3         0.530948  ...                           0\n",
              "4         0.698514  ...                           0\n",
              "\n",
              "[5 rows x 30 columns]"
            ]
          },
          "metadata": {},
          "execution_count": 8
        }
      ]
    },
    {
      "cell_type": "code",
      "metadata": {
        "colab": {
          "base_uri": "https://localhost:8080/",
          "height": 1000
        },
        "id": "LcS5IAIjyA2-",
        "outputId": "58f58b51-5a76-40db-fd61-98aca7e8807d"
      },
      "source": [
        "####Part 2: Exploring Data\n",
        "#numerics only\n",
        "# Limiting the data\n",
        "#train_data.dtypes\n",
        "train_data_numeric = train_data[['tot_credit_debt', 'avg_card_debt',\n",
        "       'credit_age', 'credit_good_age', 'card_age', 'credit_past_due_amount', 'inq_12_month_num', 'card_inq_24_month_num',\n",
        "       'uti_card', 'uti_50plus_pct', 'uti_max_credit_line', 'uti_card_50plus_pct','rep_income']]\n",
        "\n",
        "train_data_numeric = train_data[['tot_credit_debt',\n",
        "       'credit_age', 'card_age', 'credit_past_due_amount', 'inq_12_month_num',\n",
        "       'uti_card','rep_income']]\n",
        "\n",
        "# Visualize the data using seaborn Pairplots\n",
        "#g = sns.pairplot(train_data_numeric, diag_kws={'bw': 0.2})\n",
        "#g\n",
        "\n",
        "\n",
        "#categoricals\n",
        "train_data_categorical = ['non_mtg_acc_past_due_12_months_num','non_mtg_acc_past_due_6_months_num','mortgages_past_due_6_months_num','card_open_36_month_num','auto_open_36_month_num','ind_acc_XYZ','Default_ind','States']\n",
        "for f in train_data_categorical:\n",
        "    plt.figure()\n",
        "    ax = sns.countplot(x=f, data=train_data, palette=\"Set1\")"
      ],
      "execution_count": 10,
      "outputs": [
        {
          "output_type": "display_data",
          "data": {
            "image/png": "[encoded data removed]",
            "text/plain": [
              "<Figure size 432x288 with 1 Axes>"
            ]
          },
          "metadata": {
            "needs_background": "light"
          }
        },
        {
          "output_type": "display_data",
          "data": {
            "image/png": "[encoded data removed]",
            "text/plain": [
              "<Figure size 432x288 with 1 Axes>"
            ]
          },
          "metadata": {
            "needs_background": "light"
          }
        },
        {
          "output_type": "display_data",
          "data": {
            "image/png": "[encoded data removed]",
            "text/plain": [
              "<Figure size 432x288 with 1 Axes>"
            ]
          },
          "metadata": {
            "needs_background": "light"
          }
        },
        {
          "output_type": "display_data",
          "data": {
            "image/png": "[encoded data removed]",
            "text/plain": [
              "<Figure size 432x288 with 1 Axes>"
            ]
          },
          "metadata": {
            "needs_background": "light"
          }
        },
        {
          "output_type": "display_data",
          "data": {
            "image/png": "[encoded data removed]",
            "text/plain": [
              "<Figure size 432x288 with 1 Axes>"
            ]
          },
          "metadata": {
            "needs_background": "light"
          }
        },
        {
          "output_type": "display_data",
          "data": {
            "image/png": "[encoded data removed]",
            "text/plain": [
              "<Figure size 432x288 with 1 Axes>"
            ]
          },
          "metadata": {
            "needs_background": "light"
          }
        },
        {
          "output_type": "display_data",
          "data": {
            "image/png": "[encoded data removed]",
            "text/plain": [
              "<Figure size 432x288 with 1 Axes>"
            ]
          },
          "metadata": {
            "needs_background": "light"
          }
        },
        {
          "output_type": "display_data",
          "data": {
            "image/png": "[encoded data removed]",
            "text/plain": [
              "<Figure size 432x288 with 1 Axes>"
            ]
          },
          "metadata": {
            "needs_background": "light"
          }
        }
      ]
    },
    {
      "cell_type": "code",
      "metadata": {
        "id": "9-pe_jtQ8_rY"
      },
      "source": [
        "####Part 3: Setting up the x and y train/test"
      ],
      "execution_count": null,
      "outputs": []
    },
    {
      "cell_type": "code",
      "metadata": {
        "colab": {
          "base_uri": "https://localhost:8080/"
        },
        "id": "5o1QAKzn9VgP",
        "outputId": "951f32d2-2b86-46bf-a975-d572d3c2379c"
      },
      "source": [
        "#####Train data\n",
        "x = new_train_data.iloc[:,[0,1,2,3,7,10,14,17,18,19,20,21,22,23,24,25,26,27,28,29]] #When i turned the objects/category into dummies,new columns were made\n",
        "x\n",
        "y = new_train_data.loc[:,'Default_ind'] #make sure your y is a cateogry and not object, don't do dummies for the rresponse variable\n",
        "\n",
        "\n",
        "#Part 3: Making the xtrain, xtest, etc\n",
        "xtrain, xtest, ytrain, ytest = ms.train_test_split(x, y, test_size = 0.8, random_state = 10) #test_size and train_size is how big (0-1.0) you want to use the dataset for this\n",
        "print(xtrain)"
      ],
      "execution_count": 10,
      "outputs": [
        {
          "output_type": "stream",
          "name": "stdout",
          "text": [
            "       tot_credit_debt  ...  card_open_36_month_num_2.0\n",
            "10819         0.266875  ...                           0\n",
            "15490         0.543302  ...                           0\n",
            "11221         0.548571  ...                           0\n",
            "13900         0.433731  ...                           0\n",
            "1264          0.541885  ...                           0\n",
            "...                ...  ...                         ...\n",
            "9372          0.441414  ...                           0\n",
            "7291          0.410480  ...                           0\n",
            "17728         0.440275  ...                           0\n",
            "7293          0.402444  ...                           0\n",
            "17673         0.526777  ...                           0\n",
            "\n",
            "[4000 rows x 20 columns]\n"
          ]
        }
      ]
    },
    {
      "cell_type": "code",
      "metadata": {
        "id": "vQu0w9rL9ggO"
      },
      "source": [
        "#####Valid data\n",
        "x_valid_data = new_valid_data.iloc[:,[0,1,2,3,7,10,14,17,18,19,20,21,22,23,24,25,26,27,28,29]] #When i turned the objects/category into dummies,new columns were made\n",
        "x\n",
        "y_valid_data = new_valid_data.loc[:,'Default_ind'] #make sure your y is a cateogry and not object, don't do dummies for the rresponse variable\n",
        "\n",
        "\n",
        "#Part 3: Making the xtrain, xtest, etc\n",
        "xtrain_valid, xtest_valid, ytrain_valid, ytest_valid = ms.train_test_split(x_valid_data, y_valid_data, test_size = 0.05, random_state = 1) #test_size and train_size is how big (0-1.0) you want to use the dataset for this\n"
      ],
      "execution_count": 11,
      "outputs": []
    },
    {
      "cell_type": "code",
      "metadata": {
        "id": "qW5QK5Bz9l84"
      },
      "source": [
        "#####Test data\n",
        "x_test_data = new_test_data.iloc[:,[0,1,2,3,7,10,14,17,18,19,20,21,22,23,24,25,26,27,28,29]] #When i turned the objects/category into dummies,new columns were made\n",
        "x\n",
        "y_test_data = new_test_data.loc[:,'Default_ind'] #make sure your y is a cateogry and not object, don't do dummies for the rresponse variable\n",
        "\n",
        "\n",
        "#Part 3: Making the xtrain, xtest, etc\n",
        "xtrain_test, xtest_test, ytrain_test, ytest_test = ms.train_test_split(x_test_data, y_test_data, test_size = 0.30, random_state = 1) #test_size and train_size is how big (0-1.0) you want to use the dataset for this\n"
      ],
      "execution_count": 12,
      "outputs": []
    },
    {
      "cell_type": "code",
      "metadata": {
        "id": "pgB5Au469whZ"
      },
      "source": [
        "####Confusion plot\n",
        "def plot_confusion_matrix(cm, classes=None, title='Confusion matrix'):\n",
        "    \"\"\"Plots a confusion matrix.\"\"\"\n",
        "    if classes is not None:\n",
        "        sns.heatmap(cm, xticklabels=classes, yticklabels=classes, vmin=0., vmax=1., annot=True, annot_kws={'size':50})\n",
        "    else:\n",
        "        sns.heatmap(cm, vmin=0., vmax=1.)\n",
        "    plt.title(title)\n",
        "    plt.ylabel('True label')\n",
        "    plt.xlabel('Predicted label')"
      ],
      "execution_count": 13,
      "outputs": []
    },
    {
      "cell_type": "code",
      "metadata": {
        "id": "mtgyuJAP9_pB"
      },
      "source": [
        "####Part 4: Doing Random Forest without tuning"
      ],
      "execution_count": null,
      "outputs": []
    },
    {
      "cell_type": "code",
      "metadata": {
        "colab": {
          "base_uri": "https://localhost:8080/",
          "height": 329
        },
        "id": "f81ZtZ_L-DhB",
        "outputId": "6ee7581f-9398-4d3e-b9c6-934106fe679e"
      },
      "source": [
        "rf = RandomForestClassifier(n_estimators=1000, criterion='entropy')\n",
        "rf.fit(xtrain, ytrain)\n",
        "prediction_test = rf.predict(X=xtest_test)\n",
        "\n",
        "#Checking its accuracy and testing it\n",
        "# Accuracy on Test\n",
        "print(\"Training Accuracy is: \", rf.score(xtrain, ytrain))\n",
        "# Accuracy on Train\n",
        "print(\"Testing Accuracy is: \", rf.score(xtest_test, ytest_test))\n",
        "\n",
        "rf_fit = rf.fit(xtrain, ytrain)\n",
        "ypred = rf_fit.predict_proba(xtest_test)[::,1]\n",
        "metrics.roc_auc_score(ytest_test, ypred) #Auc according to random forest is 0.84\n",
        "\n",
        "prediction_test = rf_fit.predict(X=xtest_test)\n",
        "\n",
        "cm = confusion_matrix(ytest_test, prediction_test)\n",
        "cm_norm = cm/cm.sum(axis=1)[:, np.newaxis]\n",
        "plt.figure()\n",
        "plot_confusion_matrix(cm_norm, classes=rf.classes_)"
      ],
      "execution_count": 14,
      "outputs": [
        {
          "output_type": "stream",
          "name": "stdout",
          "text": [
            "Training Accuracy is:  1.0\n",
            "Testing Accuracy is:  0.924\n"
          ]
        },
        {
          "output_type": "display_data",
          "data": {
            "image/png": "[encoded data removed]",
            "text/plain": [
              "<Figure size 432x288 with 2 Axes>"
            ]
          },
          "metadata": {
            "needs_background": "light"
          }
        }
      ]
    },
    {
      "cell_type": "code",
      "metadata": {
        "colab": {
          "base_uri": "https://localhost:8080/"
        },
        "id": "ZswWS8Zy-f_8",
        "outputId": "c3158d49-403f-4d21-ad97-7935de5e7fd8"
      },
      "source": [
        "FP = cm.sum(axis=0) - np.diag(cm)  \n",
        "FN = cm.sum(axis=1) - np.diag(cm)\n",
        "TP = np.diag(cm)\n",
        "TN = cm.sum() - (FP + FN + TP)\n",
        "\n",
        "\n",
        "# Sensitivity, hit rate, recall, or true positive rate\n",
        "TPR = TP/(TP+FN)\n",
        "print (\"The True Positive rate / Recall per class is: \",TPR)\n",
        "\n",
        "# Precision or positive predictive value\n",
        "PPV = TP/(TP+FP)\n",
        "print (\"The Precision per class is: \",PPV)\n",
        "\n",
        "# False positive rate or False alarm rate\n",
        "FPR = FP/(FP+TN)\n",
        "print (\"The False Alarm rate per class is: \",FPR)\n",
        "\n",
        "# False negative rate or Miss Rate\n",
        "FNR = FN/(TP+FN)\n",
        "print (\"The Miss Rate rate per class is: \",FNR)\n",
        "\n",
        "# Classification error\n",
        "CER = (FP+FN)/(TP+FP+FN+TN)\n",
        "print (\"The Classification error of each class is\", CER)\n",
        "\n",
        "# Overall accuracy\n",
        "ACC = (TP+TN)/(TP+FP+FN+TN)\n",
        "print (\"The Accuracy of each class is\", ACC)\n",
        "print(\"\")\n",
        "\n",
        "#F1 score\n",
        "F1 = TP/(TP + (0.5*(FP+FN)))\n",
        "\n",
        "##Total averages :\n",
        "print (\"The average Recall is: \",TPR.sum()/2)\n",
        "print (\"The average Precision is: \",PPV.sum()/2)\n",
        "print (\"The average False Alarm is: \",FPR.sum()/2)\n",
        "print (\"The average Miss Rate rate is: \",FNR.sum()/2)\n",
        "print (\"The average Classification error is\", CER.sum()/2)\n",
        "print (\"The average Accuracy is\", ACC.sum()/2) #accuracy is 0.93\n",
        "print (\"The average F1 Score is\", F1.sum()/2) #its 0.72"
      ],
      "execution_count": null,
      "outputs": [
        {
          "name": "stdout",
          "output_type": "stream",
          "text": [
            "The True Positive rate / Recall per class is:  [0.97900072 0.27731092]\n",
            "The Precision per class is:  [0.94019471 0.53225806]\n",
            "The False Alarm rate per class is:  [0.72268908 0.02099928]\n",
            "The Miss Rate rate per class is:  [0.02099928 0.72268908]\n",
            "The Classification error of each class is [0.07666667 0.07666667]\n",
            "The Accuracy of each class is [0.92333333 0.92333333]\n",
            "\n",
            "The average Recall is:  0.6281558242413547\n",
            "The average Precision is:  0.7362263896989547\n",
            "The average False Alarm is:  0.37184417575864526\n",
            "The average Miss Rate rate is:  0.37184417575864526\n",
            "The average Classification error is 0.07666666666666666\n",
            "The average Accuracy is 0.9233333333333333\n",
            "The average F1 Score is 0.6619231379804367\n"
          ]
        }
      ]
    },
    {
      "cell_type": "code",
      "metadata": {
        "id": "PtWFjORu-wpl"
      },
      "source": [
        "####Part 5: Doing Random Forest with Hyperparameters"
      ],
      "execution_count": null,
      "outputs": []
    },
    {
      "cell_type": "code",
      "metadata": {
        "colab": {
          "base_uri": "https://localhost:8080/"
        },
        "id": "O22iJhDp-2w-",
        "outputId": "8fe6c0ca-0a91-4612-b5f1-8ae4d4aff4a6"
      },
      "source": [
        "##Hyperparameter Tuning\n",
        "# Number of trees in random forest\n",
        "n_estimators = [int(x) for x in np.linspace(start = 200, stop = 1200, num = 3)] \n",
        "# Number of features to consider at every split\n",
        "max_features = ['auto', 'sqrt','log2']\n",
        "# Maximum number of levels in tree\n",
        "max_depth = [2,10]\n",
        "# Minimum number of samples required to split a node\n",
        "min_samples_split = [2, 5,7]\n",
        "# Minimum number of samples required at each leaf node\n",
        "min_samples_leaf = [1, 2]\n",
        "# Method of selecting samples for training each tree\n",
        "bootstrap = [True, False]\n",
        "#Same as min_samples_leaf,but expressed as a fraction of the total number of weighted instances \n",
        "min_weight_fraction_leaf = []\n",
        "criterion = ['gini', 'entropy']\n",
        "\n",
        "# Create the param grid\n",
        "param_grid = {'n_estimators': n_estimators,\n",
        "               'max_features': max_features,\n",
        "               'max_depth': max_depth,\n",
        "               'min_samples_split': min_samples_split,\n",
        "               'min_samples_leaf': min_samples_leaf,\n",
        "               'bootstrap': bootstrap,\n",
        "               'criterion': criterion}\n",
        "\n",
        "print(param_grid)\n"
      ],
      "execution_count": 15,
      "outputs": [
        {
          "output_type": "stream",
          "name": "stdout",
          "text": [
            "{'n_estimators': [200, 700, 1200], 'max_features': ['auto', 'sqrt', 'log2'], 'max_depth': [2, 10], 'min_samples_split': [2, 5, 7], 'min_samples_leaf': [1, 2], 'bootstrap': [True, False], 'criterion': ['gini', 'entropy']}\n"
          ]
        }
      ]
    },
    {
      "cell_type": "code",
      "metadata": {
        "colab": {
          "base_uri": "https://localhost:8080/"
        },
        "id": "ySkzuWB2_FJA",
        "outputId": "09115816-f363-48ce-dd08-139e1c8d6268"
      },
      "source": [
        "from sklearn.model_selection import GridSearchCV #note: make sure that xtrain and ytrain have the same row\n",
        "from sklearn.metrics import f1_score, make_scorer #if you want to make your own f1 score\n",
        "\n",
        "rf_Model = RandomForestClassifier()\n",
        "\n",
        "f1 = make_scorer(f1_score , average='macro')\n",
        "\n",
        "rf_Grid = GridSearchCV(estimator = rf_Model, param_grid = param_grid, cv = 5, verbose=2, n_jobs = 4, scoring='f1')\n",
        "rf_Grid = GridSearchCV(estimator = rf_Model, param_grid = param_grid, cv = 5, verbose=2, n_jobs = 4, scoring=f1)\n",
        "\n",
        "train_rf = rf_Grid.fit(xtrain_valid, ytrain_valid)\n",
        "\n",
        "train_rf.best_params_\n"
      ],
      "execution_count": 16,
      "outputs": [
        {
          "metadata": {
            "tags": null
          },
          "name": "stdout",
          "output_type": "stream",
          "text": [
            "Fitting 5 folds for each of 432 candidates, totalling 2160 fits\n"
          ]
        },
        {
          "output_type": "stream",
          "name": "stderr",
          "text": [
            "[Parallel(n_jobs=4)]: Using backend LokyBackend with 4 concurrent workers.\n",
            "[Parallel(n_jobs=4)]: Done  33 tasks      | elapsed:   41.7s\n",
            "[Parallel(n_jobs=4)]: Done 154 tasks      | elapsed:  3.2min\n",
            "[Parallel(n_jobs=4)]: Done 357 tasks      | elapsed:  8.7min\n",
            "[Parallel(n_jobs=4)]: Done 640 tasks      | elapsed: 17.2min\n",
            "[Parallel(n_jobs=4)]: Done 1005 tasks      | elapsed: 29.7min\n",
            "[Parallel(n_jobs=4)]: Done 1450 tasks      | elapsed: 41.8min\n",
            "[Parallel(n_jobs=4)]: Done 1977 tasks      | elapsed: 58.8min\n",
            "[Parallel(n_jobs=4)]: Done 2160 out of 2160 | elapsed: 68.6min finished\n"
          ]
        },
        {
          "output_type": "execute_result",
          "data": {
            "text/plain": [
              "{'bootstrap': False,\n",
              " 'criterion': 'gini',\n",
              " 'max_depth': 10,\n",
              " 'max_features': 'log2',\n",
              " 'min_samples_leaf': 1,\n",
              " 'min_samples_split': 7,\n",
              " 'n_estimators': 200}"
            ]
          },
          "metadata": {},
          "execution_count": 16
        }
      ]
    },
    {
      "cell_type": "code",
      "metadata": {
        "colab": {
          "base_uri": "https://localhost:8080/"
        },
        "id": "-IBSUNhJAIqk",
        "outputId": "129cb2b3-3cf9-4878-a5f1-cdf60c12aa76"
      },
      "source": [
        "print(train_rf.best_params_)"
      ],
      "execution_count": 17,
      "outputs": [
        {
          "output_type": "stream",
          "name": "stdout",
          "text": [
            "{'bootstrap': False, 'criterion': 'gini', 'max_depth': 10, 'max_features': 'log2', 'min_samples_leaf': 1, 'min_samples_split': 7, 'n_estimators': 200}\n"
          ]
        }
      ]
    },
    {
      "cell_type": "code",
      "metadata": {
        "colab": {
          "base_uri": "https://localhost:8080/",
          "height": 295
        },
        "id": "nJKeQUB3Ixj1",
        "outputId": "bfe413bb-04ed-4241-98e7-8dd8679c4c8d"
      },
      "source": [
        "rf = RandomForestClassifier(n_estimators = train_rf.best_params_['n_estimators'], max_features = train_rf.best_params_['max_features'],max_depth = train_rf.best_params_['max_depth'], min_samples_split = train_rf.best_params_['min_samples_split'], min_samples_leaf = train_rf.best_params_['min_samples_leaf'], bootstrap = train_rf.best_params_['bootstrap'], criterion = train_rf.best_params_['criterion'])\n",
        "rf_fit = rf.fit(xtrain,ytrain) #use this to deploy\n",
        "ypred = rf_fit.predict_proba(xtest_test)[::,1]\n",
        "\n",
        "metrics.roc_auc_score(ytest_test, ypred) #AUC is 0.85\n",
        "\n",
        "prediction_test = rf_fit.predict(X=xtest_test)\n",
        "\n",
        "cm = confusion_matrix(ytest_test, prediction_test)\n",
        "cm_norm = cm/cm.sum(axis=1)[:, np.newaxis]\n",
        "plt.figure()\n",
        "plot_confusion_matrix(cm_norm, classes=rf.classes_)\n"
      ],
      "execution_count": 18,
      "outputs": [
        {
          "output_type": "display_data",
          "data": {
            "image/png": "[encoded data removed]",
            "text/plain": [
              "<Figure size 432x288 with 2 Axes>"
            ]
          },
          "metadata": {
            "needs_background": "light"
          }
        }
      ]
    },
    {
      "cell_type": "code",
      "metadata": {
        "colab": {
          "base_uri": "https://localhost:8080/",
          "height": 232
        },
        "id": "g3mfsa7dJERS",
        "outputId": "6f04f6fc-38fa-45a8-84d9-8a697bdc6211"
      },
      "source": [
        "metrics.roc_auc_score(ytest_test, ypred) #AUC is 0.80\n",
        "FP = cm.sum(axis=0) - np.diag(cm)  \n",
        "FN = cm.sum(axis=1) - np.diag(cm)\n",
        "TP = np.diag(cm)\n",
        "TN = cm.sum() - (FP + FN + TP)\n",
        "\n",
        "\n",
        "# Sensitivity, hit rate, recall, or true positive rate\n",
        "TPR = TP/(TP+FN)\n",
        "print (\"The True Positive rate / Recall per class is: \",TPR)\n",
        "\n",
        "# Precision or positive predictive value\n",
        "PPV = TP/(TP+FP)\n",
        "print (\"The Precision per class is: \",PPV)\n",
        "\n",
        "# False positive rate or False alarm rate\n",
        "FPR = FP/(FP+TN)\n",
        "print (\"The False Alarm rate per class is: \",FPR)\n",
        "\n",
        "# False negative rate or Miss Rate\n",
        "FNR = FN/(TP+FN)\n",
        "print (\"The Miss Rate rate per class is: \",FNR)\n",
        "\n",
        "# Classification error\n",
        "CER = (FP+FN)/(TP+FP+FN+TN)\n",
        "print (\"The Classification error of each class is\", CER)\n",
        "\n",
        "# Overall accuracy\n",
        "ACC = (TP+TN)/(TP+FP+FN+TN)\n",
        "print (\"The Accuracy of each class is\", ACC)\n",
        "print(\"\")\n",
        "\n",
        "#F1 score\n",
        "F1 = TP/(TP + (0.5*(FP+FN)))\n",
        "\n",
        "##Total averages :\n",
        "print (\"The average Recall is: \",TPR.sum()/2)\n",
        "print (\"The average Precision is: \",PPV.sum()/2)\n",
        "print (\"The average False Alarm is: \",FPR.sum()/2)\n",
        "print (\"The average Miss Rate rate is: \",FNR.sum()/2)\n",
        "print (\"The average Classification error is\", CER.sum()/2)\n",
        "print (\"The average Accuracy is\", ACC.sum()/2) #accuracy is 0.93\n",
        "print (\"The average F1 Score is\", F1.sum()/2) #its 0.68, better than before\n",
        "f1_score(ytest_test, prediction_test)"
      ],
      "execution_count": 11,
      "outputs": [
        {
          "output_type": "error",
          "ename": "NameError",
          "evalue": "ignored",
          "traceback": [
            "\u001b[0;31m---------------------------------------------------------------------------\u001b[0m",
            "\u001b[0;31mNameError\u001b[0m                                 Traceback (most recent call last)",
            "\u001b[0;32m<ipython-input-11-dd3e6e557774>\u001b[0m in \u001b[0;36m<module>\u001b[0;34m()\u001b[0m\n\u001b[0;32m----> 1\u001b[0;31m \u001b[0mmetrics\u001b[0m\u001b[0;34m.\u001b[0m\u001b[0mroc_auc_score\u001b[0m\u001b[0;34m(\u001b[0m\u001b[0mytest_test\u001b[0m\u001b[0;34m,\u001b[0m \u001b[0mypred\u001b[0m\u001b[0;34m)\u001b[0m \u001b[0;31m#AUC is 0.80\u001b[0m\u001b[0;34m\u001b[0m\u001b[0;34m\u001b[0m\u001b[0m\n\u001b[0m\u001b[1;32m      2\u001b[0m \u001b[0mFP\u001b[0m \u001b[0;34m=\u001b[0m \u001b[0mcm\u001b[0m\u001b[0;34m.\u001b[0m\u001b[0msum\u001b[0m\u001b[0;34m(\u001b[0m\u001b[0maxis\u001b[0m\u001b[0;34m=\u001b[0m\u001b[0;36m0\u001b[0m\u001b[0;34m)\u001b[0m \u001b[0;34m-\u001b[0m \u001b[0mnp\u001b[0m\u001b[0;34m.\u001b[0m\u001b[0mdiag\u001b[0m\u001b[0;34m(\u001b[0m\u001b[0mcm\u001b[0m\u001b[0;34m)\u001b[0m\u001b[0;34m\u001b[0m\u001b[0;34m\u001b[0m\u001b[0m\n\u001b[1;32m      3\u001b[0m \u001b[0mFN\u001b[0m \u001b[0;34m=\u001b[0m \u001b[0mcm\u001b[0m\u001b[0;34m.\u001b[0m\u001b[0msum\u001b[0m\u001b[0;34m(\u001b[0m\u001b[0maxis\u001b[0m\u001b[0;34m=\u001b[0m\u001b[0;36m1\u001b[0m\u001b[0;34m)\u001b[0m \u001b[0;34m-\u001b[0m \u001b[0mnp\u001b[0m\u001b[0;34m.\u001b[0m\u001b[0mdiag\u001b[0m\u001b[0;34m(\u001b[0m\u001b[0mcm\u001b[0m\u001b[0;34m)\u001b[0m\u001b[0;34m\u001b[0m\u001b[0;34m\u001b[0m\u001b[0m\n\u001b[1;32m      4\u001b[0m \u001b[0mTP\u001b[0m \u001b[0;34m=\u001b[0m \u001b[0mnp\u001b[0m\u001b[0;34m.\u001b[0m\u001b[0mdiag\u001b[0m\u001b[0;34m(\u001b[0m\u001b[0mcm\u001b[0m\u001b[0;34m)\u001b[0m\u001b[0;34m\u001b[0m\u001b[0;34m\u001b[0m\u001b[0m\n\u001b[1;32m      5\u001b[0m \u001b[0mTN\u001b[0m \u001b[0;34m=\u001b[0m \u001b[0mcm\u001b[0m\u001b[0;34m.\u001b[0m\u001b[0msum\u001b[0m\u001b[0;34m(\u001b[0m\u001b[0;34m)\u001b[0m \u001b[0;34m-\u001b[0m \u001b[0;34m(\u001b[0m\u001b[0mFP\u001b[0m \u001b[0;34m+\u001b[0m \u001b[0mFN\u001b[0m \u001b[0;34m+\u001b[0m \u001b[0mTP\u001b[0m\u001b[0;34m)\u001b[0m\u001b[0;34m\u001b[0m\u001b[0;34m\u001b[0m\u001b[0m\n",
            "\u001b[0;31mNameError\u001b[0m: name 'ytest_test' is not defined"
          ]
        }
      ]
    },
    {
      "cell_type": "code",
      "metadata": {
        "colab": {
          "base_uri": "https://localhost:8080/"
        },
        "id": "rSdxaGcKRsnr",
        "outputId": "82132f95-50a1-4075-cb93-da707a94b558"
      },
      "source": [
        "print(rf)\n"
      ],
      "execution_count": 20,
      "outputs": [
        {
          "output_type": "stream",
          "name": "stdout",
          "text": [
            "RandomForestClassifier(bootstrap=False, ccp_alpha=0.0, class_weight=None,\n",
            "                       criterion='gini', max_depth=10, max_features='log2',\n",
            "                       max_leaf_nodes=None, max_samples=None,\n",
            "                       min_impurity_decrease=0.0, min_impurity_split=None,\n",
            "                       min_samples_leaf=1, min_samples_split=7,\n",
            "                       min_weight_fraction_leaf=0.0, n_estimators=200,\n",
            "                       n_jobs=None, oob_score=False, random_state=None,\n",
            "                       verbose=0, warm_start=False)\n"
          ]
        }
      ]
    },
    {
      "cell_type": "code",
      "metadata": {
        "colab": {
          "base_uri": "https://localhost:8080/",
          "height": 712
        },
        "id": "Fse6ACbrXlib",
        "outputId": "88e4de2a-d677-47e1-f89e-a3fc7f72e43d"
      },
      "source": [
        "#Final step: shows how each predictor is important\n",
        "!pip install rfpimp\n",
        "from sklearn.metrics import r2_score\n",
        "from rfpimp import permutation_importances\n",
        "\n",
        "def r2(rf, xtrain, ytrain):\n",
        "    return r2_score(ytrain, rf.predict(xtrain))\n",
        "\n",
        "perm_imp_rfpimp = permutation_importances(rf, xtrain, ytrain, r2)\n",
        "perm_imp_rfpimp.reset_index(drop = False, inplace = True)\n",
        "perm_imp_rfpimp\n",
        "\n",
        "# function for creating a feature importance dataframe\n",
        "def imp_df(column_names, importances):\n",
        "    df = pd.DataFrame({'feature': column_names,\n",
        "                       'feature_importance': importances}) \\\n",
        "           .sort_values('feature_importance', ascending = False) \\\n",
        "           .reset_index(drop = True)\n",
        "    return df\n",
        "\n",
        "# plotting a feature importance dataframe (horizontal barchart)\n",
        "def var_imp_plot(imp_df, title):\n",
        "    imp_df.columns = ['feature', 'feature_importance']\n",
        "    sns.barplot(x = 'feature_importance', y = 'feature', data = imp_df, orient = 'h', color = 'royalblue') \\\n",
        "       .set_title(title, fontsize = 20)\n",
        "\n",
        "var_imp_plot(perm_imp_rfpimp, 'Permutation feature importance (rfpimp)') "
      ],
      "execution_count": 25,
      "outputs": [
        {
          "output_type": "stream",
          "name": "stdout",
          "text": [
            "Collecting rfpimp\n",
            "  Downloading rfpimp-1.3.7.tar.gz (10 kB)\n",
            "Requirement already satisfied: numpy in /usr/local/lib/python3.7/dist-packages (from rfpimp) (1.19.5)\n",
            "Requirement already satisfied: pandas in /usr/local/lib/python3.7/dist-packages (from rfpimp) (1.1.5)\n",
            "Requirement already satisfied: scikit-learn in /usr/local/lib/python3.7/dist-packages (from rfpimp) (0.22.2.post1)\n",
            "Requirement already satisfied: matplotlib in /usr/local/lib/python3.7/dist-packages (from rfpimp) (3.2.2)\n",
            "Requirement already satisfied: cycler>=0.10 in /usr/local/lib/python3.7/dist-packages (from matplotlib->rfpimp) (0.10.0)\n",
            "Requirement already satisfied: kiwisolver>=1.0.1 in /usr/local/lib/python3.7/dist-packages (from matplotlib->rfpimp) (1.3.1)\n",
            "Requirement already satisfied: pyparsing!=2.0.4,!=2.1.2,!=2.1.6,>=2.0.1 in /usr/local/lib/python3.7/dist-packages (from matplotlib->rfpimp) (2.4.7)\n",
            "Requirement already satisfied: python-dateutil>=2.1 in /usr/local/lib/python3.7/dist-packages (from matplotlib->rfpimp) (2.8.2)\n",
            "Requirement already satisfied: six in /usr/local/lib/python3.7/dist-packages (from cycler>=0.10->matplotlib->rfpimp) (1.15.0)\n",
            "Requirement already satisfied: pytz>=2017.2 in /usr/local/lib/python3.7/dist-packages (from pandas->rfpimp) (2018.9)\n",
            "Requirement already satisfied: joblib>=0.11 in /usr/local/lib/python3.7/dist-packages (from scikit-learn->rfpimp) (1.0.1)\n",
            "Requirement already satisfied: scipy>=0.17.0 in /usr/local/lib/python3.7/dist-packages (from scikit-learn->rfpimp) (1.4.1)\n",
            "Building wheels for collected packages: rfpimp\n",
            "  Building wheel for rfpimp (setup.py) ... \u001b[?25l\u001b[?25hdone\n",
            "  Created wheel for rfpimp: filename=rfpimp-1.3.7-py3-none-any.whl size=10667 sha256=bfe8008f0b6300254c3c51678f260a1f929914e1cc58eea530805be200f70ea8\n",
            "  Stored in directory: /root/.cache/pip/wheels/ad/48/d9/21fc62fbeff405425b0d5dd8b0354576cdb62ac97f6b11d1ef\n",
            "Successfully built rfpimp\n",
            "Installing collected packages: rfpimp\n",
            "Successfully installed rfpimp-1.3.7\n"
          ]
        },
        {
          "output_type": "stream",
          "name": "stderr",
          "text": [
            "/usr/local/lib/python3.7/dist-packages/sklearn/utils/deprecation.py:144: FutureWarning: The sklearn.ensemble.forest module is  deprecated in version 0.22 and will be removed in version 0.24. The corresponding classes / functions should instead be imported from sklearn.ensemble. Anything that cannot be imported from sklearn.ensemble is now part of the private API.\n",
            "  warnings.warn(message, FutureWarning)\n"
          ]
        },
        {
          "output_type": "display_data",
          "data": {
            "image/png": "[encoded data removed]",
            "text/plain": [
              "<Figure size 432x288 with 1 Axes>"
            ]
          },
          "metadata": {
            "needs_background": "light"
          }
        }
      ]
    },
    {
      "cell_type": "code",
      "metadata": {
        "colab": {
          "base_uri": "https://localhost:8080/",
          "height": 301
        },
        "id": "p1Mxyq4lYDNy",
        "outputId": "4297339e-7350-4fc5-8d0f-5a859c01e4fc"
      },
      "source": [
        "####this is a test to see which predictors is most important\n",
        "x2 = new_train_data.iloc[:,[0,1,2,3,4,5,6,7,8,9,10,14,17,18,19,20,21,22,23,24,25,26,27,28,29]]\n",
        "x2\n",
        "y2 = new_train_data.loc[:,'Default_ind'] #make sure your y is a cateogry and not object, don't do dummies for the rresponse variable\n",
        "\n",
        "xtrain2, xtest2, ytrain2, ytest2 = ms.train_test_split(x2, y2, test_size = 0.2, random_state = 10)\n",
        "\n",
        "rf = RandomForestClassifier(n_estimators=1000, criterion='entropy')\n",
        "rf.fit(xtrain2, ytrain2)\n",
        "\n",
        "from sklearn.metrics import r2_score\n",
        "from rfpimp import permutation_importances\n",
        "\n",
        "def r2(rf, xtrain2, ytrain2):\n",
        "    return r2_score(ytrain2, rf.predict(xtrain2))\n",
        "\n",
        "perm_imp_rfpimp = permutation_importances(rf, xtrain2, ytrain2, r2)\n",
        "perm_imp_rfpimp.reset_index(drop = False, inplace = True)\n",
        "perm_imp_rfpimp\n",
        "\n",
        "# function for creating a feature importance dataframe\n",
        "def imp_df(column_names, importances):\n",
        "    df = pd.DataFrame({'feature': column_names,\n",
        "                       'feature_importance': importances}) \\\n",
        "           .sort_values('feature_importance', ascending = False) \\\n",
        "           .reset_index(drop = True)\n",
        "    return df\n",
        "\n",
        "# plotting a feature importance dataframe (horizontal barchart)\n",
        "def var_imp_plot(imp_df, title):\n",
        "    imp_df.columns = ['feature', 'feature_importance']\n",
        "    sns.barplot(x = 'feature_importance', y = 'feature', data = imp_df, orient = 'h', color = 'royalblue') \\\n",
        "       .set_title(title, fontsize = 20)\n",
        "\n",
        "var_imp_plot(perm_imp_rfpimp, 'Permutation feature importance (rfpimp)') "
      ],
      "execution_count": 29,
      "outputs": [
        {
          "output_type": "display_data",
          "data": {
            "image/png": "[encoded data removed]",
            "text/plain": [
              "<Figure size 432x288 with 1 Axes>"
            ]
          },
          "metadata": {
            "needs_background": "light"
          }
        }
      ]
    },
    {
      "cell_type": "code",
      "metadata": {
        "id": "bBi-8i3u5Wh_"
      },
      "source": [
        "########IMPORTANT: When you have time, change the random forest classifier with balancedrandomforestclassifier and put weights to it in order to combat imbalance data"
      ],
      "execution_count": null,
      "outputs": []
    }
  ]
}